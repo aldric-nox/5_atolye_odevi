{
 "cells": [
  {
   "cell_type": "markdown",
   "metadata": {},
   "source": [
    "3\" değerine ulaşmak için indexleme yapın.\n",
    "\n",
    "\"Hi-Kod\" değerine ulaşmak için indexleme yapın.\n",
    "\n",
    "4.7 değerine ulaşmak için indexleme yapın.\n",
    "\n",
    "9,\"3\",8.4,\"Hi-Kod\" değerlerine ulaşmak için slicing yapın.\n",
    "\n",
    "8.4,\"Hi-Kod\",\"False\",4.7 değerlerine ulaşmak için slicing yapın.\n",
    "\n"
   ]
  },
  {
   "cell_type": "code",
   "execution_count": 1,
   "metadata": {},
   "outputs": [],
   "source": [
    "liste = [\"Python\",True,9,\"3\",8.4,\"Hi-Kod\",\"False\",4.7]\n",
    "\n"
   ]
  },
  {
   "cell_type": "code",
   "execution_count": 2,
   "metadata": {},
   "outputs": [
    {
     "data": {
      "text/plain": [
       "'3'"
      ]
     },
     "execution_count": 2,
     "metadata": {},
     "output_type": "execute_result"
    }
   ],
   "source": [
    "liste[3]"
   ]
  },
  {
   "cell_type": "code",
   "execution_count": 3,
   "metadata": {},
   "outputs": [
    {
     "data": {
      "text/plain": [
       "'Hi-Kod'"
      ]
     },
     "execution_count": 3,
     "metadata": {},
     "output_type": "execute_result"
    }
   ],
   "source": [
    "liste[5]"
   ]
  },
  {
   "cell_type": "code",
   "execution_count": 5,
   "metadata": {},
   "outputs": [
    {
     "data": {
      "text/plain": [
       "4.7"
      ]
     },
     "execution_count": 5,
     "metadata": {},
     "output_type": "execute_result"
    }
   ],
   "source": [
    "liste[7]\n",
    "liste[-1]"
   ]
  },
  {
   "cell_type": "code",
   "execution_count": 6,
   "metadata": {},
   "outputs": [
    {
     "data": {
      "text/plain": [
       "[9, '3', 8.4, 'Hi-Kod']"
      ]
     },
     "execution_count": 6,
     "metadata": {},
     "output_type": "execute_result"
    }
   ],
   "source": [
    "liste[2:6]"
   ]
  },
  {
   "cell_type": "code",
   "execution_count": 8,
   "metadata": {},
   "outputs": [
    {
     "data": {
      "text/plain": [
       "[8.4, 'Hi-Kod', 'False', 4.7]"
      ]
     },
     "execution_count": 8,
     "metadata": {},
     "output_type": "execute_result"
    }
   ],
   "source": [
    "liste[4:8]"
   ]
  },
  {
   "cell_type": "markdown",
   "metadata": {},
   "source": [
    "2. Verilen listede bulunan string veri tipindeki öğeleri yeni_liste isimli listeye eklenir.\n",
    "liste = [\"Python\",True,9,\"3\",8.4,\"Hi-Kod\",\"False\",4.7]"
   ]
  },
  {
   "cell_type": "code",
   "execution_count": 9,
   "metadata": {},
   "outputs": [],
   "source": [
    "liste = [\"Python\",True,9,\"3\",8.4,\"Hi-Kod\",\"False\",4.7]"
   ]
  },
  {
   "cell_type": "code",
   "execution_count": 10,
   "metadata": {},
   "outputs": [
    {
     "data": {
      "text/plain": [
       "['Python', '3', 'Hi-Kod', 'False']"
      ]
     },
     "execution_count": 10,
     "metadata": {},
     "output_type": "execute_result"
    }
   ],
   "source": [
    "yeni_liste = []\n",
    "\n",
    "for eleman in liste:\n",
    "    if type(eleman) == str:\n",
    "        yeni_liste.append(eleman)\n",
    "        \n",
    "yeni_liste"
   ]
  },
  {
   "cell_type": "markdown",
   "metadata": {},
   "source": [
    "3. Enumerate methodunu araştırın ve aşağıdaki örneği enumerate methodu ile yapın."
   ]
  },
  {
   "cell_type": "code",
   "execution_count": 14,
   "metadata": {},
   "outputs": [
    {
     "name": "stdout",
     "output_type": "stream",
     "text": [
      "0. indexte bulunan meyve: elma\n",
      "1. indexte bulunan meyve: armut\n",
      "2. indexte bulunan meyve: çilek\n"
     ]
    }
   ],
   "source": [
    "meyveler = ['elma', 'armut', 'çilek']\n",
    "for index in range(len(meyveler)):\n",
    "    print(\"{}. indexte bulunan meyve: {}\".format(index,meyveler[index]))"
   ]
  },
  {
   "cell_type": "code",
   "execution_count": 17,
   "metadata": {},
   "outputs": [
    {
     "name": "stdout",
     "output_type": "stream",
     "text": [
      "0. indexte bulunan meyve: elma\n",
      "1. indexte bulunan meyve: armut\n",
      "2. indexte bulunan meyve: çilek\n"
     ]
    }
   ],
   "source": [
    "meyveler = ['elma', 'armut', 'çilek']\n",
    "for index, meyve in enumerate(meyveler, 0):\n",
    "    print('{}. indexte bulunan meyve: {}'.format(index,meyve))"
   ]
  },
  {
   "cell_type": "code",
   "execution_count": null,
   "metadata": {},
   "outputs": [],
   "source": [
    "meyveler = ['elma', 'armut', 'çilek']\n",
    "for index, meyve in enumerate(meyveler, 1):\n",
    "    print('{}. indexte bulunan meyve: {}'.format(index,meyve))"
   ]
  }
 ],
 "metadata": {
  "kernelspec": {
   "display_name": "base",
   "language": "python",
   "name": "python3"
  },
  "language_info": {
   "codemirror_mode": {
    "name": "ipython",
    "version": 3
   },
   "file_extension": ".py",
   "mimetype": "text/x-python",
   "name": "python",
   "nbconvert_exporter": "python",
   "pygments_lexer": "ipython3",
   "version": "3.10.9"
  }
 },
 "nbformat": 4,
 "nbformat_minor": 2
}
